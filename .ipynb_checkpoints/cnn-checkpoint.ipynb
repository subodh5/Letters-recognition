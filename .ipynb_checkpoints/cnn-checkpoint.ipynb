{
 "cells": [
  {
   "cell_type": "code",
   "execution_count": 1,
   "id": "0e4afd6b",
   "metadata": {},
   "outputs": [],
   "source": [
    "import pandas as pd\n",
    "import numpy as np\n",
    "import tensorflow as tf\n",
    "from tensorflow import keras\n",
    "from matplotlib import pyplot as plt"
   ]
  },
  {
   "cell_type": "code",
   "execution_count": 2,
   "id": "e17d7031",
   "metadata": {},
   "outputs": [],
   "source": [
    "df1=pd.read_csv(\"Dataset/train.csv\",header=None)\n",
    "df2=pd.read_csv(\"Dataset/test.csv\",header=None)"
   ]
  },
  {
   "cell_type": "code",
   "execution_count": 3,
   "id": "7547b686",
   "metadata": {},
   "outputs": [],
   "source": [
    "X_train , y_train = np.array(df1.iloc[:, 1:]), df1[0]\n",
    "X_test , y_test = np.array(df2.iloc[:, 1:]), df2[0]"
   ]
  },
  {
   "cell_type": "code",
   "execution_count": 4,
   "id": "066a48e8",
   "metadata": {},
   "outputs": [],
   "source": [
    "X_train=X_train.reshape(len(X_train),28,28)\n",
    "X_test=X_test.reshape(len(X_test),28,28)"
   ]
  },
  {
   "cell_type": "code",
   "execution_count": 5,
   "id": "b2450210",
   "metadata": {},
   "outputs": [],
   "source": [
    "for i in range(0,len(X_train)):\n",
    "    X_train[i]=X_train[i].transpose()\n",
    "    \n",
    "for i in range(0,len(X_test)):\n",
    "    X_test[i]=X_test[i].transpose()"
   ]
  },
  {
   "cell_type": "code",
   "execution_count": 6,
   "id": "8f231fbc",
   "metadata": {},
   "outputs": [
    {
     "data": {
      "text/plain": [
       "<matplotlib.image.AxesImage at 0x185d35f90a0>"
      ]
     },
     "execution_count": 6,
     "metadata": {},
     "output_type": "execute_result"
    },
    {
     "data": {
      "image/png": "[encoded data removed]",
      "text/plain": [
       "<Figure size 288x288 with 1 Axes>"
      ]
     },
     "metadata": {
      "needs_background": "light"
     },
     "output_type": "display_data"
    }
   ],
   "source": [
    "plt.matshow(X_train[0])"
   ]
  },
  {
   "cell_type": "code",
   "execution_count": 7,
   "id": "be6805f4",
   "metadata": {},
   "outputs": [],
   "source": [
    "X_train=X_train/255\n",
    "X_test=X_test/255"
   ]
  },
  {
   "cell_type": "code",
   "execution_count": 8,
   "id": "73dbf1a7",
   "metadata": {},
   "outputs": [],
   "source": [
    "X_train = X_train.reshape(len(X_train),28,28,1)\n",
    "X_test = X_test.reshape(len(X_test),28,28,1)"
   ]
  },
  {
   "cell_type": "code",
   "execution_count": 9,
   "id": "84f07467",
   "metadata": {},
   "outputs": [],
   "source": [
    "model=keras.Sequential([\n",
    "    keras.layers.Conv2D(filters=32, kernel_size=(3,3), activation='relu', input_shape=(28,28,1)),\n",
    "    keras.layers.MaxPooling2D((2,2)),\n",
    "    \n",
    "    keras.layers.Conv2D(filters=32, kernel_size=(3,3), activation='relu', input_shape=(28,28,1)),\n",
    "    keras.layers.MaxPooling2D((2,2)),\n",
    "    \n",
    "      \n",
    "    keras.layers.Flatten(),\n",
    "    keras.layers.Dense(128,activation='relu'),\n",
    "    keras.layers.Dense(27,activation='softmax')\n",
    "])"
   ]
  },
  {
   "cell_type": "code",
   "execution_count": 10,
   "id": "f17ddb9f",
   "metadata": {},
   "outputs": [],
   "source": [
    "model.compile(\n",
    "    optimizer=\"adam\", \n",
    "    loss='sparse_categorical_crossentropy',\n",
    "    metrics=[\"accuracy\"]\n",
    ")"
   ]
  },
  {
   "cell_type": "code",
   "execution_count": 11,
   "id": "7e42b26a",
   "metadata": {},
   "outputs": [
    {
     "name": "stdout",
     "output_type": "stream",
     "text": [
      "Epoch 1/10\n",
      "2775/2775 [==============================] - 35s 12ms/step - loss: 0.5094 - accuracy: 0.8402\n",
      "Epoch 2/10\n",
      "2775/2775 [==============================] - 36s 13ms/step - loss: 0.2540 - accuracy: 0.9157\n",
      "Epoch 3/10\n",
      "2775/2775 [==============================] - 37s 13ms/step - loss: 0.2063 - accuracy: 0.9297\n",
      "Epoch 4/10\n",
      "2775/2775 [==============================] - 42s 15ms/step - loss: 0.1770 - accuracy: 0.9379\n",
      "Epoch 5/10\n",
      "2775/2775 [==============================] - 42s 15ms/step - loss: 0.1549 - accuracy: 0.9449\n",
      "Epoch 6/10\n",
      "2775/2775 [==============================] - 38s 14ms/step - loss: 0.1375 - accuracy: 0.9506\n",
      "Epoch 7/10\n",
      "2775/2775 [==============================] - 37s 13ms/step - loss: 0.1227 - accuracy: 0.9539\n",
      "Epoch 8/10\n",
      "2775/2775 [==============================] - 36s 13ms/step - loss: 0.1104 - accuracy: 0.9584\n",
      "Epoch 9/10\n",
      "2775/2775 [==============================] - 39s 14ms/step - loss: 0.1006 - accuracy: 0.9604\n",
      "Epoch 10/10\n",
      "2775/2775 [==============================] - 37s 13ms/step - loss: 0.0924 - accuracy: 0.96300s\n"
     ]
    },
    {
     "data": {
      "text/plain": [
       "<keras.callbacks.History at 0x2cb8e5cf400>"
      ]
     },
     "execution_count": 11,
     "metadata": {},
     "output_type": "execute_result"
    }
   ],
   "source": [
    "model.fit(X_train,y_train,epochs=10, shuffle=True)"
   ]
  },
  {
   "cell_type": "code",
   "execution_count": 12,
   "id": "1f13c0ee",
   "metadata": {},
   "outputs": [
    {
     "name": "stdout",
     "output_type": "stream",
     "text": [
      "463/463 [==============================] - 2s 4ms/step - loss: 0.2859 - accuracy: 0.9194\n"
     ]
    },
    {
     "data": {
      "text/plain": [
       "[0.285923570394516, 0.9193918704986572]"
      ]
     },
     "execution_count": 12,
     "metadata": {},
     "output_type": "execute_result"
    }
   ],
   "source": [
    "model.evaluate(X_test,y_test)"
   ]
  },
  {
   "cell_type": "code",
   "execution_count": 13,
   "id": "a618a925",
   "metadata": {},
   "outputs": [
    {
     "name": "stdout",
     "output_type": "stream",
     "text": [
      "INFO:tensorflow:Assets written to: model\\assets\n"
     ]
    }
   ],
   "source": [
    "model.save(\"model\")"
   ]
  }
 ],
 "metadata": {
  "kernelspec": {
   "display_name": "Python 3",
   "language": "python",
   "name": "python3"
  },
  "language_info": {
   "codemirror_mode": {
    "name": "ipython",
    "version": 3
   },
   "file_extension": ".py",
   "mimetype": "text/x-python",
   "name": "python",
   "nbconvert_exporter": "python",
   "pygments_lexer": "ipython3",
   "version": "3.8.2"
  }
 },
 "nbformat": 4,
 "nbformat_minor": 5
}
